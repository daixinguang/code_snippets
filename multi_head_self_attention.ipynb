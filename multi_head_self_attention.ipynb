{
 "cells": [
  {
   "cell_type": "code",
   "execution_count": 2,
   "metadata": {},
   "outputs": [
    {
     "name": "stdout",
     "output_type": "stream",
     "text": [
      "tensor([[[0.1659, 0.0145],\n",
      "         [0.3058, 0.5696],\n",
      "         [0.6783, 0.3965],\n",
      "         [0.0019, 0.6310]]]) \n",
      " tensor([[[ 6.6615e-01,  2.7767e-03,  3.1097e-02, -3.9248e-01, -4.4692e-01,\n",
      "          -3.3785e-01],\n",
      "         [ 6.6362e-01, -1.6762e-03,  2.8390e-02, -3.9283e-01, -4.4331e-01,\n",
      "          -3.3972e-01],\n",
      "         [ 6.6263e-01, -3.0069e-03,  2.7275e-02, -3.9255e-01, -4.4136e-01,\n",
      "          -3.3978e-01],\n",
      "         [ 6.6470e-01, -8.4013e-05,  2.9593e-02, -3.9300e-01, -4.4528e-01,\n",
      "          -3.3943e-01]]], grad_fn=<AddBackward0>)\n"
     ]
    }
   ],
   "source": [
    "from turtle import forward\n",
    "import torch\n",
    "import torch.nn as nn\n",
    "from math import sqrt\n",
    "class MultiHeadSelfAttention(nn.Module):\n",
    "    \n",
    "    def __init__(self, dim_in, d_model, num_heads=3):\n",
    "        super(MultiHeadSelfAttention, self).__init__()\n",
    "    \n",
    "        self.dim_in = dim_in\n",
    "        self.d_model = d_model\n",
    "        self.num_heads = num_heads\n",
    "        \n",
    "        assert d_model % num_heads == 0 # d_model must be multiple of num_heads\n",
    "        \n",
    "        self.linear_q = nn.Linear(dim_in, d_model)\n",
    "        self.linear_k = nn.Linear(dim_in, d_model)\n",
    "        self.linear_v = nn.Linear(dim_in, d_model)\n",
    "        \n",
    "        self.scale = 1 / sqrt(d_model // d_model)\n",
    "        \n",
    "        self.fc = nn.Linear(d_model, d_model)\n",
    "        \n",
    "    def forward(self, x):\n",
    "        batch, n, dim_in = x.shape # x: shape(batch, n, dim_in)\n",
    "        assert dim_in == self.dim_in\n",
    "        \n",
    "        nh = self.num_heads\n",
    "        dk = self.d_model // nh\n",
    "        \n",
    "        q = self.linear_q(x).reshape(batch, n, nh, dk).transpose(1,2) # (batch,nh,n,dk)\n",
    "        k = self.linear_k(x).reshape(batch, n, nh, dk).transpose(1,2) # (batch,nh,n,dk)\n",
    "        v = self.linear_v(x).reshape(batch, n, nh, dk).transpose(1,2) # (batch,nh,n,dk)\n",
    "        \n",
    "        dist = torch.matmul(q,k.transpose(2,3)) * self.scale # (batch,nh,n,n)\n",
    "        dist = torch.softmax(dist, dim=-1)\n",
    "        \n",
    "        att = torch.matmul(dist, x)\n",
    "        att = att.transpose(1,2).reshape(batch, n, self.d_model)\n",
    "        \n",
    "        output = self.fc(att)\n",
    "        \n",
    "        return output\n",
    "\n",
    "x = torch.rand((1,4,2))\n",
    "multi_head_att = MultiHeadSelfAttention(x.shape[2], 6, 3)\n",
    "output = multi_head_att(x)\n",
    "\n",
    "print(x, '\\n', output)"
   ]
  },
  {
   "cell_type": "code",
   "execution_count": 7,
   "metadata": {},
   "outputs": [
    {
     "name": "stdout",
     "output_type": "stream",
     "text": [
      "tensor([[[0.4200, 0.3127, 0.5360, 0.5334],\n",
      "         [0.3127, 0.3135, 0.4851, 0.5296],\n",
      "         [0.5360, 0.4851, 0.7758, 0.8220],\n",
      "         [0.5334, 0.5296, 0.8220, 0.8949]]]) \n",
      " tensor([[[0.4200, 0.3127, 0.5360, 0.5334],\n",
      "         [0.3127, 0.3135, 0.4851, 0.5296],\n",
      "         [0.5360, 0.4851, 0.7758, 0.8220],\n",
      "         [0.5334, 0.5296, 0.8220, 0.8949]]])\n"
     ]
    }
   ],
   "source": [
    "x = torch.rand((1,4,2))\n",
    "\n",
    "res1 = x @ x.transpose(1,2)\n",
    "res2 = torch.matmul(x, x.transpose(1,2))\n",
    "\n",
    "print(res1, '\\n', res2)"
   ]
  }
 ],
 "metadata": {
  "kernelspec": {
   "display_name": "dxg",
   "language": "python",
   "name": "python3"
  },
  "language_info": {
   "codemirror_mode": {
    "name": "ipython",
    "version": 3
   },
   "file_extension": ".py",
   "mimetype": "text/x-python",
   "name": "python",
   "nbconvert_exporter": "python",
   "pygments_lexer": "ipython3",
   "version": "3.9.15"
  }
 },
 "nbformat": 4,
 "nbformat_minor": 2
}
