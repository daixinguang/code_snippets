{
 "cells": [
  {
   "cell_type": "markdown",
   "metadata": {},
   "source": [
    "# Multi-Head Attention\n",
    "\n",
    "Paper: `Transformer` Attention is All you need (NIPS 2017)\n",
    "\n",
    "Code:\n",
    "- [官方TensorFlow实现](https://github.com/tensorflow/tensor2tensor/blob/master/tensor2tensor/models/transformer.py)\n",
    "- [Pytorch实现](https://github.com/jadore801120/attention-is-all-you-need-pytorch/blob/master/transformer/SubLayers.py)\n",
    "\n",
    "Transformer architecture的两个核心sub-layers \n",
    "- Multi-Head Attention layer\n",
    "- Feed Forward Network layer\n",
    "\n",
    "Reference:\n",
    "- `Enzo_Mi` [Multi-Head Attention | 算法 + 代码](https://www.bilibili.com/video/BV1qo4y1F7Ep)\n",
    "- `黑白` [Transformer代码及解析(Pytorch)](https://zhuanlan.zhihu.com/p/345993564)\n",
    "- [详解Transformer （Attention Is All You Need） - 知乎](https://zhuanlan.zhihu.com/p/48508221)\n",
    "- `于建民` [The Illustrated Transformer【译】](https://blog.csdn.net/yujianmin1990/article/details/85221271)\n",
    "- `Jay Alammar` [The Illustrated Transformer](https://jalammar.github.io/illustrated-transformer/)"
   ]
  },
  {
   "cell_type": "code",
   "execution_count": 8,
   "metadata": {},
   "outputs": [
    {
     "name": "stdout",
     "output_type": "stream",
     "text": [
      "tensor([[[0.7723, 0.2628],\n",
      "         [0.8771, 0.9445],\n",
      "         [0.3468, 0.1092],\n",
      "         [0.6148, 0.7719]]]) \n",
      " tensor([[[ 0.2075,  0.0570,  0.1289, -0.2385, -0.2644,  0.7774],\n",
      "         [ 0.2092,  0.0622,  0.1302, -0.2377, -0.2602,  0.7797],\n",
      "         [ 0.2043,  0.0643,  0.1267, -0.2208, -0.2476,  0.7803],\n",
      "         [ 0.2072,  0.0658,  0.1288, -0.2274, -0.2509,  0.7811]]],\n",
      "       grad_fn=<AddBackward0>)\n"
     ]
    }
   ],
   "source": [
    "import torch\n",
    "import torch.nn as nn\n",
    "from math import sqrt\n",
    "class MultiHeadSelfAttention(nn.Module):\n",
    "    \n",
    "    def __init__(self, dim_in, d_model, num_heads=3):\n",
    "        super(MultiHeadSelfAttention, self).__init__()\n",
    "    \n",
    "        self.dim_in = dim_in\n",
    "        self.d_model = d_model\n",
    "        self.num_heads = num_heads\n",
    "        \n",
    "        assert d_model % num_heads == 0 # d_model must be multiple of num_heads\n",
    "        \n",
    "        self.linear_q = nn.Linear(dim_in, d_model)\n",
    "        self.linear_k = nn.Linear(dim_in, d_model)\n",
    "        self.linear_v = nn.Linear(dim_in, d_model)\n",
    "        \n",
    "        self.scale = 1 / sqrt(d_model // d_model)\n",
    "        \n",
    "        self.fc = nn.Linear(d_model, d_model)\n",
    "        \n",
    "    def forward(self, x):\n",
    "        batch, n, dim_in = x.shape # x: shape(batch, n, dim_in)\n",
    "        assert dim_in == self.dim_in\n",
    "        \n",
    "        nh = self.num_heads\n",
    "        dk = self.d_model // nh\n",
    "        \n",
    "        q = self.linear_q(x).reshape(batch, n, nh, dk).transpose(1,2) # (batch,nh,n,dk)\n",
    "        k = self.linear_k(x).reshape(batch, n, nh, dk).transpose(1,2) # (batch,nh,n,dk)\n",
    "        v = self.linear_v(x).reshape(batch, n, nh, dk).transpose(1,2) # (batch,nh,n,dk)\n",
    "        \n",
    "        dist = torch.matmul(q,k.transpose(2,3)) * self.scale # (batch,nh,n,n)\n",
    "        dist = torch.softmax(dist, dim=-1)\n",
    "        \n",
    "        att = torch.matmul(dist, x)\n",
    "        att = att.transpose(1,2).reshape(batch, n, self.d_model)\n",
    "        \n",
    "        output = self.fc(att)\n",
    "        \n",
    "        return output\n",
    "\n",
    "x = torch.rand((1,4,2))\n",
    "multi_head_att = MultiHeadSelfAttention(x.shape[2], 6, 3)\n",
    "output = multi_head_att(x)\n",
    "\n",
    "print(x, '\\n', output)"
   ]
  },
  {
   "cell_type": "code",
   "execution_count": null,
   "metadata": {},
   "outputs": [],
   "source": [
    "# 每个sub-layer的输入dimension=512, dim_in=512\n",
    "# 原论文中 d_model=512 dk=dv=64, h=8\n",
    "\n",
    "\n"
   ]
  },
  {
   "cell_type": "markdown",
   "metadata": {},
   "source": [
    "\n",
    "$$\n",
    "\\mathrm{Attention}(Q,K,V)=\\mathrm{softmax}(\\frac{QK^T}{\\sqrt{d_k}})V\n",
    "$$"
   ]
  },
  {
   "cell_type": "code",
   "execution_count": null,
   "metadata": {},
   "outputs": [],
   "source": [
    "\n",
    "dist = torch.matmul(q,k.transpose(2,3)) * self.scale # (batch,nh,n,n)\n",
    "dist = torch.softmax(dist, dim=-1)\n",
    "att = torch.matmul(dist, x) # Attention(QKV)\n",
    "\n",
    "att = att.transpose(1,2).reshape(batch, n, self.d_model)"
   ]
  },
  {
   "cell_type": "code",
   "execution_count": 7,
   "metadata": {},
   "outputs": [
    {
     "name": "stdout",
     "output_type": "stream",
     "text": [
      "tensor([[[0.4200, 0.3127, 0.5360, 0.5334],\n",
      "         [0.3127, 0.3135, 0.4851, 0.5296],\n",
      "         [0.5360, 0.4851, 0.7758, 0.8220],\n",
      "         [0.5334, 0.5296, 0.8220, 0.8949]]]) \n",
      " tensor([[[0.4200, 0.3127, 0.5360, 0.5334],\n",
      "         [0.3127, 0.3135, 0.4851, 0.5296],\n",
      "         [0.5360, 0.4851, 0.7758, 0.8220],\n",
      "         [0.5334, 0.5296, 0.8220, 0.8949]]])\n"
     ]
    }
   ],
   "source": [
    "x = torch.rand((1,4,2))\n",
    "\n",
    "res1 = x @ x.transpose(1,2)\n",
    "res2 = torch.matmul(x, x.transpose(1,2))\n",
    "\n",
    "print(res1, '\\n', res2)"
   ]
  }
 ],
 "metadata": {
  "kernelspec": {
   "display_name": "dxg",
   "language": "python",
   "name": "python3"
  },
  "language_info": {
   "codemirror_mode": {
    "name": "ipython",
    "version": 3
   },
   "file_extension": ".py",
   "mimetype": "text/x-python",
   "name": "python",
   "nbconvert_exporter": "python",
   "pygments_lexer": "ipython3",
   "version": "3.9.15"
  }
 },
 "nbformat": 4,
 "nbformat_minor": 2
}
