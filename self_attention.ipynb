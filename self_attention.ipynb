{
 "cells": [
  {
   "cell_type": "markdown",
   "metadata": {},
   "source": [
    "# Self-Attention\n",
    "\n",
    "Paper: `Transformer` Attention is All you need (NIPS 2017)\n",
    "\n",
    "Code:\n",
    "- [官方TensorFlow实现](https://github.com/tensorflow/tensor2tensor/blob/master/tensor2tensor/models/transformer.py)\n",
    "- [Pytorch实现](https://github.com/jadore801120/attention-is-all-you-need-pytorch/blob/master/transformer/SubLayers.py)\n",
    "\n",
    "Reference:\n",
    "- `Enzo_Mi` [Multi-Head Attention | 算法 + 代码](https://www.bilibili.com/video/BV1qo4y1F7Ep)\n",
    "- `黑白` [Transformer代码及解析(Pytorch)](https://zhuanlan.zhihu.com/p/345993564)\n",
    "- `于建民` [The Illustrated Transformer【译】](https://blog.csdn.net/yujianmin1990/article/details/85221271)\n",
    "- `Jay Alammar` [The Illustrated Transformer](https://jalammar.github.io/illustrated-transformer/)"
   ]
  },
  {
   "cell_type": "code",
   "execution_count": null,
   "metadata": {},
   "outputs": [],
   "source": [
    "%%time\n",
    "import torch\n",
    "import torch.nn.functional as F\n",
    "query = torch.rand((10, 32, 512))\n",
    "key = query\n",
    "value = query\n",
    "attn = F.scaled_dot_product_attention(query, key, value)\n",
    "\n",
    "print(\"query \\n\", query.shape)\n",
    "print(\"attn \\n\", attn.shape)"
   ]
  },
  {
   "cell_type": "markdown",
   "metadata": {},
   "source": [
    "### MAC 上也可以用GPU加速了"
   ]
  },
  {
   "cell_type": "code",
   "execution_count": null,
   "metadata": {},
   "outputs": [],
   "source": [
    "%%time\n",
    "import torch\n",
    "import torch.nn.functional as F\n",
    "\n",
    "device = torch.device(\"mps\")\n",
    "\n",
    "query = torch.rand((10, 32, 512), device = device)\n",
    "key = query\n",
    "value = query\n",
    "attn = F.scaled_dot_product_attention(query, key, value)\n",
    "\n",
    "print(\"query \\n\", query.shape)\n",
    "print(\"attn \\n\", attn.device)"
   ]
  },
  {
   "cell_type": "code",
   "execution_count": null,
   "metadata": {},
   "outputs": [],
   "source": [
    "import torch\n",
    "import torch.nn as nn\n",
    "class SelfAttention(nn.Module):\n",
    "    def __init__(self, dim, dk, dv):\n",
    "        super(SelfAttention, self).__init__()\n",
    "        self.scale = dk ** -0.5\n",
    "        self.q = nn.Linear(dim, dk)\n",
    "        self.k = nn.Linear(dim, dk)\n",
    "        self.v = nn.Linear(dim, dv)\n",
    "    \n",
    "    def forward(self, x):\n",
    "        q = self.q(x)\n",
    "        k = self.k(x)\n",
    "        v = self.v(x)\n",
    "        \n",
    "        attn = q @ k.transpose(-2,-1) * self.scale\n",
    "        attn = attn.softmax(dim=-1)\n",
    "        \n",
    "        x = attn @ v\n",
    "        return x\n",
    "\n",
    "att = SelfAttention(dim=2,dk=2,dv=3)\n",
    "x = torch.rand((1,4,2))\n",
    "output = att(x)\n",
    "print(x, '\\n', output)"
   ]
  }
 ],
 "metadata": {
  "kernelspec": {
   "display_name": "dxg",
   "language": "python",
   "name": "python3"
  },
  "language_info": {
   "codemirror_mode": {
    "name": "ipython",
    "version": 3
   },
   "file_extension": ".py",
   "mimetype": "text/x-python",
   "name": "python",
   "nbconvert_exporter": "python",
   "pygments_lexer": "ipython3",
   "version": "3.9.15"
  }
 },
 "nbformat": 4,
 "nbformat_minor": 2
}
