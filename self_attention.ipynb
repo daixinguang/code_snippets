{
 "cells": [
  {
   "cell_type": "markdown",
   "metadata": {},
   "source": [
    "# Self-Attention\n",
    "\n",
    "Paper: `Transformer` Attention is All you need (NIPS 2017)\n",
    "\n",
    "Code:\n",
    "- [官方TensorFlow实现](https://github.com/tensorflow/tensor2tensor/blob/master/tensor2tensor/models/transformer.py)\n",
    "- [Pytorch实现](https://github.com/jadore801120/attention-is-all-you-need-pytorch/blob/master/transformer/SubLayers.py)\n",
    "\n",
    "Reference:\n",
    "- `Enzo_Mi` [Multi-Head Attention | 算法 + 代码](https://www.bilibili.com/video/BV1qo4y1F7Ep)\n",
    "- `黑白` [Transformer代码及解析(Pytorch)](https://zhuanlan.zhihu.com/p/345993564)\n",
    "- `于建民` [The Illustrated Transformer【译】](https://blog.csdn.net/yujianmin1990/article/details/85221271)\n",
    "- `Jay Alammar` [The Illustrated Transformer](https://jalammar.github.io/illustrated-transformer/)"
   ]
  },
  {
   "cell_type": "code",
   "execution_count": 5,
   "metadata": {},
   "outputs": [
    {
     "name": "stdout",
     "output_type": "stream",
     "text": [
      "query \n",
      " torch.Size([10, 32, 512])\n",
      "attn \n",
      " torch.Size([10, 32, 512])\n"
     ]
    }
   ],
   "source": [
    "import torch\n",
    "import torch.nn.functional as F\n",
    "query = torch.rand((10, 32, 512))\n",
    "key = query\n",
    "value = query\n",
    "attn = F.scaled_dot_product_attention(query, key, value)\n",
    "\n",
    "print(\"query \\n\", query.shape)\n",
    "print(\"attn \\n\", attn.shape)"
   ]
  },
  {
   "cell_type": "code",
   "execution_count": null,
   "metadata": {},
   "outputs": [],
   "source": [
    "import torch\n",
    "import torch.nn.functional as F\n",
    "\n",
    "device = torch.device(\"mps\")\n",
    "\n",
    "query = torch.rand((10, 32, 512), device = device)\n",
    "key = query\n",
    "value = query\n",
    "attn = F.scaled_dot_product_attention(query, key, value)\n",
    "\n",
    "print(\"query \\n\", query.shape)\n",
    "print(\"attn \\n\", attn.shape)"
   ]
  },
  {
   "cell_type": "code",
   "execution_count": 2,
   "metadata": {},
   "outputs": [
    {
     "data": {
      "text/plain": [
       "tensor([[[0.4745, 0.4078, 0.5420,  ..., 0.5213, 0.5136, 0.4905],\n",
       "         [0.4223, 0.3916, 0.5045,  ..., 0.5870, 0.4890, 0.5507],\n",
       "         [0.4302, 0.4916, 0.5028,  ..., 0.5220, 0.5181, 0.5106],\n",
       "         ...,\n",
       "         [0.3784, 0.4479, 0.4898,  ..., 0.5049, 0.5079, 0.5083],\n",
       "         [0.3707, 0.4917, 0.5711,  ..., 0.5041, 0.4907, 0.6239],\n",
       "         [0.4729, 0.4541, 0.4978,  ..., 0.5907, 0.5661, 0.5213]],\n",
       "\n",
       "        [[0.5778, 0.5685, 0.4711,  ..., 0.5387, 0.4863, 0.5201],\n",
       "         [0.4893, 0.4546, 0.4603,  ..., 0.4155, 0.4935, 0.5398],\n",
       "         [0.5993, 0.4695, 0.5234,  ..., 0.4527, 0.5264, 0.6029],\n",
       "         ...,\n",
       "         [0.4905, 0.5442, 0.4694,  ..., 0.5322, 0.5586, 0.5457],\n",
       "         [0.4696, 0.5609, 0.4698,  ..., 0.3902, 0.5340, 0.5222],\n",
       "         [0.5904, 0.4835, 0.5434,  ..., 0.4096, 0.4629, 0.5283]],\n",
       "\n",
       "        [[0.4654, 0.4964, 0.5914,  ..., 0.4808, 0.3459, 0.4747],\n",
       "         [0.4354, 0.4594, 0.4713,  ..., 0.5216, 0.3536, 0.5848],\n",
       "         [0.4499, 0.5598, 0.6143,  ..., 0.4723, 0.4049, 0.5465],\n",
       "         ...,\n",
       "         [0.4023, 0.4383, 0.6024,  ..., 0.4324, 0.4634, 0.5256],\n",
       "         [0.4274, 0.5346, 0.6117,  ..., 0.4620, 0.4496, 0.4888],\n",
       "         [0.4829, 0.5554, 0.5615,  ..., 0.4205, 0.3266, 0.5301]],\n",
       "\n",
       "        ...,\n",
       "\n",
       "        [[0.6096, 0.5808, 0.4567,  ..., 0.5141, 0.6290, 0.6294],\n",
       "         [0.6107, 0.5375, 0.4972,  ..., 0.5783, 0.5583, 0.6358],\n",
       "         [0.5342, 0.5481, 0.5169,  ..., 0.4752, 0.5841, 0.6645],\n",
       "         ...,\n",
       "         [0.5339, 0.5528, 0.4922,  ..., 0.4374, 0.5748, 0.6228],\n",
       "         [0.5476, 0.5195, 0.5679,  ..., 0.4650, 0.5200, 0.5375],\n",
       "         [0.5274, 0.5229, 0.5593,  ..., 0.5017, 0.6105, 0.5425]],\n",
       "\n",
       "        [[0.5084, 0.4646, 0.5088,  ..., 0.5158, 0.4603, 0.5411],\n",
       "         [0.5396, 0.4077, 0.5406,  ..., 0.4768, 0.5528, 0.5278],\n",
       "         [0.5941, 0.5349, 0.5793,  ..., 0.4866, 0.4245, 0.5445],\n",
       "         ...,\n",
       "         [0.5579, 0.4747, 0.4622,  ..., 0.4762, 0.5338, 0.5970],\n",
       "         [0.5317, 0.4349, 0.5824,  ..., 0.4210, 0.4171, 0.5397],\n",
       "         [0.5319, 0.5250, 0.4829,  ..., 0.4463, 0.5344, 0.6124]],\n",
       "\n",
       "        [[0.4635, 0.5978, 0.4826,  ..., 0.5059, 0.5200, 0.4477],\n",
       "         [0.5140, 0.5861, 0.4391,  ..., 0.6318, 0.5269, 0.3749],\n",
       "         [0.4500, 0.5824, 0.4373,  ..., 0.5932, 0.5498, 0.4094],\n",
       "         ...,\n",
       "         [0.4702, 0.5885, 0.4916,  ..., 0.5836, 0.4559, 0.4606],\n",
       "         [0.4418, 0.4975, 0.5081,  ..., 0.4735, 0.5487, 0.5144],\n",
       "         [0.4402, 0.5499, 0.4797,  ..., 0.4752, 0.5704, 0.4833]]])"
      ]
     },
     "execution_count": 2,
     "metadata": {},
     "output_type": "execute_result"
    }
   ],
   "source": [
    "attn"
   ]
  },
  {
   "cell_type": "code",
   "execution_count": 6,
   "metadata": {},
   "outputs": [
    {
     "name": "stdout",
     "output_type": "stream",
     "text": [
      "tensor([[[0.6832, 0.2191],\n",
      "         [0.3721, 0.6172],\n",
      "         [0.1940, 0.8315],\n",
      "         [0.5647, 0.7821]]]) \n",
      " tensor([[[ 0.2901, -0.0998, -0.4378],\n",
      "         [ 0.2862, -0.0993, -0.4376],\n",
      "         [ 0.2842, -0.0991, -0.4374],\n",
      "         [ 0.2801, -0.0991, -0.4383]]], grad_fn=<UnsafeViewBackward0>)\n"
     ]
    }
   ],
   "source": [
    "import torch\n",
    "import torch.nn as nn\n",
    "class SelfAttention(nn.Module):\n",
    "    def __init__(self, dim, dk, dv):\n",
    "        super(SelfAttention, self).__init__()\n",
    "        self.scale = dk ** -0.5\n",
    "        self.q = nn.Linear(dim, dk)\n",
    "        self.k = nn.Linear(dim, dk)\n",
    "        self.v = nn.Linear(dim, dv)\n",
    "    \n",
    "    def forward(self, x):\n",
    "        q = self.q(x)\n",
    "        k = self.k(x)\n",
    "        v = self.v(x)\n",
    "        \n",
    "        attn = q @ k.transpose(-2,-1) * self.scale\n",
    "        attn = attn.softmax(dim=-1)\n",
    "        \n",
    "        x = attn @ v\n",
    "        return x\n",
    "\n",
    "att = SelfAttention(dim=2,dk=2,dv=3)\n",
    "x = torch.rand((1,4,2))\n",
    "output = att(x)\n",
    "print(x, '\\n', output)"
   ]
  },
  {
   "cell_type": "code",
   "execution_count": 1,
   "metadata": {},
   "outputs": [
    {
     "ename": "NameError",
     "evalue": "name 'nn' is not defined",
     "output_type": "error",
     "traceback": [
      "\u001b[1;31m---------------------------------------------------------------------------\u001b[0m",
      "\u001b[1;31mNameError\u001b[0m                                 Traceback (most recent call last)",
      "\u001b[1;32me:\\workspaces\\code\\code_snippets\\self_attention.ipynb 单元格 3\u001b[0m line \u001b[0;36m1\n\u001b[1;32m----> <a href='vscode-notebook-cell:/e%3A/workspaces/code/code_snippets/self_attention.ipynb#W5sZmlsZQ%3D%3D?line=0'>1</a>\u001b[0m ll \u001b[39m=\u001b[39m nn\u001b[39m.\u001b[39mLinear(\u001b[39m2\u001b[39m, \u001b[39m5\u001b[39m) \u001b[39m# Linear 就是把 [...,2] 最后一维经过全连接层修改最后一维的维度为 [...,5]\u001b[39;00m\n\u001b[0;32m      <a href='vscode-notebook-cell:/e%3A/workspaces/code/code_snippets/self_attention.ipynb#W5sZmlsZQ%3D%3D?line=2'>3</a>\u001b[0m x_in \u001b[39m=\u001b[39m torch\u001b[39m.\u001b[39mrand((\u001b[39m1\u001b[39m,\u001b[39m4\u001b[39m,\u001b[39m2\u001b[39m))\n\u001b[0;32m      <a href='vscode-notebook-cell:/e%3A/workspaces/code/code_snippets/self_attention.ipynb#W5sZmlsZQ%3D%3D?line=3'>4</a>\u001b[0m x_out \u001b[39m=\u001b[39m ll(x)\n",
      "\u001b[1;31mNameError\u001b[0m: name 'nn' is not defined"
     ]
    }
   ],
   "source": [
    "ll = nn.Linear(2, 5) # Linear 就是把 [...,2] 最后一维经过全连接层修改最后一维的维度为 [...,5]\n",
    "\n",
    "x_in = torch.rand((1,4,2))\n",
    "x_out = ll(x)\n",
    "\n",
    "print(x_in, '\\n', x_out)"
   ]
  }
 ],
 "metadata": {
  "kernelspec": {
   "display_name": "dxg",
   "language": "python",
   "name": "python3"
  },
  "language_info": {
   "codemirror_mode": {
    "name": "ipython",
    "version": 3
   },
   "file_extension": ".py",
   "mimetype": "text/x-python",
   "name": "python",
   "nbconvert_exporter": "python",
   "pygments_lexer": "ipython3",
   "version": "3.10.13"
  }
 },
 "nbformat": 4,
 "nbformat_minor": 2
}
