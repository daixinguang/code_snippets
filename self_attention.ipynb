{
 "cells": [
  {
   "cell_type": "markdown",
   "metadata": {},
   "source": [
    "# Self-Attention\n",
    "\n",
    "Paper: `Transformer` Attention is All you need (NIPS 2017)\n",
    "\n",
    "Code:\n",
    "- [官方TensorFlow实现](https://github.com/tensorflow/tensor2tensor/blob/master/tensor2tensor/models/transformer.py)\n",
    "- [Pytorch实现](https://github.com/jadore801120/attention-is-all-you-need-pytorch/blob/master/transformer/SubLayers.py)\n",
    "\n",
    "Reference:\n",
    "- `Enzo_Mi` [Multi-Head Attention | 算法 + 代码](https://www.bilibili.com/video/BV1qo4y1F7Ep)\n",
    "- `黑白` [Transformer代码及解析(Pytorch)](https://zhuanlan.zhihu.com/p/345993564)\n",
    "- `于建民` [The Illustrated Transformer【译】](https://blog.csdn.net/yujianmin1990/article/details/85221271)\n",
    "- `Jay Alammar` [The Illustrated Transformer](https://jalammar.github.io/illustrated-transformer/)"
   ]
  },
  {
   "cell_type": "code",
   "execution_count": 6,
   "metadata": {},
   "outputs": [
    {
     "name": "stdout",
     "output_type": "stream",
     "text": [
      "tensor([[[0.6832, 0.2191],\n",
      "         [0.3721, 0.6172],\n",
      "         [0.1940, 0.8315],\n",
      "         [0.5647, 0.7821]]]) \n",
      " tensor([[[ 0.2901, -0.0998, -0.4378],\n",
      "         [ 0.2862, -0.0993, -0.4376],\n",
      "         [ 0.2842, -0.0991, -0.4374],\n",
      "         [ 0.2801, -0.0991, -0.4383]]], grad_fn=<UnsafeViewBackward0>)\n"
     ]
    }
   ],
   "source": [
    "import torch\n",
    "import torch.nn as nn\n",
    "class SelfAttention(nn.Module):\n",
    "    def __init__(self, dim, dk, dv):\n",
    "        super(SelfAttention, self).__init__()\n",
    "        self.scale = dk ** -0.5\n",
    "        self.q = nn.Linear(dim, dk)\n",
    "        self.k = nn.Linear(dim, dk)\n",
    "        self.v = nn.Linear(dim, dv)\n",
    "    \n",
    "    def forward(self, x):\n",
    "        q = self.q(x)\n",
    "        k = self.k(x)\n",
    "        v = self.v(x)\n",
    "        \n",
    "        attn = q @ k.transpose(-2,-1) * self.scale\n",
    "        attn = attn.softmax(dim=-1)\n",
    "        \n",
    "        x = attn @ v\n",
    "        return x\n",
    "\n",
    "att = SelfAttention(dim=2,dk=2,dv=3)\n",
    "x = torch.rand((1,4,2))\n",
    "output = att(x)\n",
    "print(x, '\\n', output)"
   ]
  },
  {
   "cell_type": "code",
   "execution_count": 1,
   "metadata": {},
   "outputs": [
    {
     "ename": "NameError",
     "evalue": "name 'nn' is not defined",
     "output_type": "error",
     "traceback": [
      "\u001b[1;31m---------------------------------------------------------------------------\u001b[0m",
      "\u001b[1;31mNameError\u001b[0m                                 Traceback (most recent call last)",
      "\u001b[1;32me:\\workspaces\\code\\code_snippets\\self_attention.ipynb 单元格 3\u001b[0m line \u001b[0;36m1\n\u001b[1;32m----> <a href='vscode-notebook-cell:/e%3A/workspaces/code/code_snippets/self_attention.ipynb#W5sZmlsZQ%3D%3D?line=0'>1</a>\u001b[0m ll \u001b[39m=\u001b[39m nn\u001b[39m.\u001b[39mLinear(\u001b[39m2\u001b[39m, \u001b[39m5\u001b[39m) \u001b[39m# Linear 就是把 [...,2] 最后一维经过全连接层修改最后一维的维度为 [...,5]\u001b[39;00m\n\u001b[0;32m      <a href='vscode-notebook-cell:/e%3A/workspaces/code/code_snippets/self_attention.ipynb#W5sZmlsZQ%3D%3D?line=2'>3</a>\u001b[0m x_in \u001b[39m=\u001b[39m torch\u001b[39m.\u001b[39mrand((\u001b[39m1\u001b[39m,\u001b[39m4\u001b[39m,\u001b[39m2\u001b[39m))\n\u001b[0;32m      <a href='vscode-notebook-cell:/e%3A/workspaces/code/code_snippets/self_attention.ipynb#W5sZmlsZQ%3D%3D?line=3'>4</a>\u001b[0m x_out \u001b[39m=\u001b[39m ll(x)\n",
      "\u001b[1;31mNameError\u001b[0m: name 'nn' is not defined"
     ]
    }
   ],
   "source": [
    "ll = nn.Linear(2, 5) # Linear 就是把 [...,2] 最后一维经过全连接层修改最后一维的维度为 [...,5]\n",
    "\n",
    "x_in = torch.rand((1,4,2))\n",
    "x_out = ll(x)\n",
    "\n",
    "print(x_in, '\\n', x_out)"
   ]
  }
 ],
 "metadata": {
  "kernelspec": {
   "display_name": "dxg",
   "language": "python",
   "name": "python3"
  },
  "language_info": {
   "codemirror_mode": {
    "name": "ipython",
    "version": 3
   },
   "file_extension": ".py",
   "mimetype": "text/x-python",
   "name": "python",
   "nbconvert_exporter": "python",
   "pygments_lexer": "ipython3",
   "version": "3.9.15"
  }
 },
 "nbformat": 4,
 "nbformat_minor": 2
}
